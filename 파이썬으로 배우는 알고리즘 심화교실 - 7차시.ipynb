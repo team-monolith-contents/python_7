{
 "cells": [
  {
   "cell_type": "markdown",
   "id": "2d8dd860-f8a8-4819-901a-4b8415fc85f2",
   "metadata": {
    "tags": []
   },
   "source": [
    "<div style=\"padding: 15px; border: 5px solid transparent; border-color: transparent; margin-bottom: 20px; border-radius: 4px; color: #3c763d; background-color: #dff0d8; border-color: #d6e9c6; font-weight: bold;\">\n",
    "    <br><br>\n",
    "    <div style=\"font-weight: bold; font-size: 40px\">파이썬으로 배우는 알고리즘 심화교실</div>\n",
    "    <div style=\"font-weight: bold; font-size: 20px\">(7) 원하는 코드를 찾아서 사용해보아요.</div>\n",
    "    <hr style=\"width:80%;text-align:left;margin-left:0;border:0.5px solid green\">\n",
    "    <br>\n",
    "    &#x2022; 파이썬의 라이브러리에 대해 이해한다.<br>\n",
    "    &#x2022; 랜덤 라이브러리에 대해 이해합니다.<br>\n",
    "    &#x2022; 숫자 야구 게임의 문제를 랜덤하게 만든다.<br>\n",
    "</div>"
   ]
  },
  {
   "cell_type": "markdown",
   "id": "4967dba1-9a95-4640-baa8-2fa4484ab385",
   "metadata": {
    "tags": []
   },
   "source": [
    "<div style=\"padding: 15px; border: 5px solid transparent; border-color: transparent; margin-bottom: 20px; border-radius: 4px; color: #3c763d; border-color: #d6e9c6; font-weight: bold;\">\n",
    "<h2 style='font-weight: bold'>1. 라이브러리의 이해</h2>\n",
    "</div> "
   ]
  },
  {
   "cell_type": "markdown",
   "id": "40a5b053-49cf-4187-8ac2-bdd7e7969e70",
   "metadata": {},
   "source": [
    "파이썬 라이브러리(Python library)는 파이썬 프로그래밍을 보다 쉽고 효율적으로 할 수 있도록 미리 작성된 코드 모음입니다.<br>\n",
    "파이썬 라이브러리는 다양한 기능을 제공하며, 이러한 라이브러리를 활용하면 많은 작업을 간편하게 수행할 수 있습니다.<br>\n",
    "파이썬의 풍부한 라이브러리 생태계는 파이썬의 인기와 널리 사용되는 이유 중 하나입니다.<br>\n",
    "\n",
    "파이썬 라이브러리의 특징:\n",
    "\n",
    "**미리 작성된 코드:** 라이브러리는 누군가 이미 만들어 놓은 기능들을 제공합니다. 이를 사용하면 특정 기능을 구현하기 위해 처음부터 코드를 작성하지 않아도 됩니다.\n",
    "\n",
    "**재사용성:** 라이브러리의 코드를 여러 프로젝트에서 재사용할 수 있습니다. 이로 인해 코드의 중복을 줄이고, 코드의 유지 보수를 용이하게 합니다.\n",
    "\n",
    "**다양한 기능:** 파이썬 라이브러리는 다양한 분야의 기능을 제공합니다. 데이터 처리, 웹 개발, 인공지능, 과학, 수학, 그래픽 등 다양한 분야에서 라이브러리를 활용할 수 있습니다.\n",
    "\n",
    "**개발 시간 단축:** 라이브러리를 사용하면 기능을 쉽게 추가하고, 효율적으로 개발할 수 있습니다. 따라서 개발 시간을 단축할 수 있습니다.\n",
    "\n",
    "이러한 파이썬 라이브러리들은 파이썬 프로그래밍을 훨씬 더 쉽고 강력하게 만들어 주며, 커뮤니티의 지속적인 기여로 더욱 발전하고 있습니다.<br>\n",
    "파이썬의 라이브러리 생태계는 파이썬을 다양한 분야에서 활용하고 데이터 과학, 웹 개발, 기계 학습 등 다양한 분야의 프로젝트를 빠르게 개발하는 데 큰 도움을 줍니다.<br>"
   ]
  },
  {
   "cell_type": "markdown",
   "id": "594e3073-13a9-49a6-a12d-265443927594",
   "metadata": {},
   "source": [
    "파이썬에서 라이브러리를 불러오기 위해서는 `import` 키워드를 사용해야 합니다.\n",
    "\n",
    "`import 원하는_라이브러리_이름` 의 형태로 원하는 라이브러리를 불러올 수 있습니다."
   ]
  },
  {
   "cell_type": "markdown",
   "id": "df2df9ed-8035-4d54-b74a-3b81454de54c",
   "metadata": {},
   "source": [
    "**예제 1 : 라이브러리 불러오기**"
   ]
  },
  {
   "cell_type": "code",
   "execution_count": 1,
   "id": "235b65a8-6b1e-4296-a9b8-5965f9f93f56",
   "metadata": {
    "tags": []
   },
   "outputs": [],
   "source": [
    "# 예제_1_라이브러리_불러오기\n",
    "\n",
    "import random\n",
    "import math"
   ]
  },
  {
   "cell_type": "markdown",
   "id": "f6b3356c-a8cd-4a73-b3ef-8ad8f514264e",
   "metadata": {
    "tags": []
   },
   "source": [
    "<div style=\"padding: 15px; border: 5px solid transparent; border-color: transparent; margin-bottom: 20px; border-radius: 4px; color: #3c763d; border-color: #d6e9c6; font-weight: bold;\">\n",
    "<h2 style='font-weight: bold'>2. 랜덤 라이브러리 사용하기</h2>\n",
    "</div> "
   ]
  },
  {
   "cell_type": "markdown",
   "id": "195df650-8a39-41b2-b632-c13f76ab1def",
   "metadata": {},
   "source": [
    "랜덤(random) 라이브러리는 파이썬 표준 라이브러리에 포함되어 있습니다.<br>\n",
    "난수(random number)를 생성하는데 사용되는 모듈입니다.<br>\n",
    "랜덤 라이브러리를 사용하면 프로그램에서 난수를 생성하여 다양한 용도로 활용할 수 있습니다.<br>\n",
    "주로 게임, 시뮬레이션, 데이터 분석, 보안 등 다양한 분야에서 사용됩니다.<br>\n",
    "\n",
    "랜덤 라이브러리를 사용하기 위해서는 `random` 라이브러리를 `import` 해야 합니다.\n",
    "\n",
    "```python\n",
    "import random\n",
    "```"
   ]
  },
  {
   "cell_type": "markdown",
   "id": "bfbef033-1434-4929-a9e7-97e11f784eb6",
   "metadata": {
    "tags": []
   },
   "source": [
    "### 랜덤 라이브러리 함수 사용하기"
   ]
  },
  {
   "cell_type": "markdown",
   "id": "a9917c70-b3c2-451b-b435-d7b31960ea66",
   "metadata": {},
   "source": [
    "랜덤 라이브러리에 포함되어있는 함수를 사용하기 위해서는 `random.함수이름()` 과 같은 방법으로 사용해야 합니다.\n",
    "\n",
    "1. `random.random()` : 0 이상 1 미만의 실수(float) 난수를 반환합니다.\n",
    "2. `random.randint(a, b)`: 정수 a 이상 b 이하의 난수를 반환합니다.\n",
    "3. `random.choice(list)`: 주어진 리스트(list)에서 임의의 요소를 선택하여 반환합니다.\n",
    "4. `random.shuffle(seq)`: 주어진 리스트(list)의 요소를 임의의 순서로 섞습니다. 이 함수는 원본 리스트를 변경하며, 새로운 리스트를 반환하지 않습니다.\n",
    "\n",
    "```python\n",
    "import random\n",
    "\n",
    "print(random.random())\n",
    "print(random.randint(3,6))\n",
    "print(random.choice(['a','b','c']))\n",
    "\n",
    "a = ['a','b','c']\n",
    "random.shuffle(a)\n",
    "print(a)\n",
    "\n",
    "```"
   ]
  },
  {
   "cell_type": "markdown",
   "id": "8ecd4b1b-914e-43d2-b32a-49dcc7a344b1",
   "metadata": {},
   "source": [
    "**예제 2 : 랜덤 라이브러리 사용하기**"
   ]
  },
  {
   "cell_type": "code",
   "execution_count": 2,
   "id": "fb4c2f6e-ae41-4d58-8d75-fbe9278a3ee9",
   "metadata": {
    "tags": []
   },
   "outputs": [
    {
     "name": "stdout",
     "output_type": "stream",
     "text": [
      "0.956469514062895\n",
      "6\n",
      "b\n",
      "['c', 'a', 'b']\n"
     ]
    }
   ],
   "source": [
    "# 예제_2_랜덤_라이브러리_사용하기\n",
    "\n",
    "import random\n",
    "\n",
    "print(random.random())\n",
    "print(random.randint(3,6))\n",
    "print(random.choice(['a','b','c']))\n",
    "\n",
    "a = ['a','b','c']\n",
    "random.shuffle(a)\n",
    "print(a)"
   ]
  },
  {
   "cell_type": "markdown",
   "id": "18edffc7-3542-4de9-ab86-e6c9d8dd462b",
   "metadata": {},
   "source": [
    "<div style=\"padding: 15px; border: 5px solid transparent; border-color: transparent; margin-bottom: 20px; border-radius: 4px; color: #8a6d3b;  border-color: #faebcc;\">\n",
    "    <div style=\"font-weight: bold; font-size: 20px\">💯 연습문제를 풀어봅시다</div>\n",
    "    <br>\n",
    "    <a class=\"jcecodle-mk jcecodle-mk__problem-chip\" data-problem-id=\"rwZx1nIPs8w\" href='#jce-judge/open/rwZx1nIPs8w' target='_self'><span>난수생성</span></a>\n",
    "    <a class=\"jcecodle-mk jcecodle-mk__problem-chip\" data-problem-id=\"WRMnMdfEJg4\" href='#jce-judge/open/WRMnMdfEJg4' target='_self'><span>대표 선발하기</span></a>\n",
    "    <a class=\"jcecodle-mk jcecodle-mk__problem-chip\" data-problem-id=\"iCrZ9xkuygQ\" href='#jce-judge/open/iCrZ9xkuygQ' target='_self'><span>랜덤주사위 만들기</span></a>\n",
    "</div>"
   ]
  },
  {
   "cell_type": "markdown",
   "id": "71433973-fb20-4776-bce0-8e50cbc86601",
   "metadata": {
    "tags": []
   },
   "source": [
    "<div style=\"padding: 15px; border: 5px solid transparent; border-color: transparent; margin-bottom: 20px; border-radius: 4px; color: #3c763d; border-color: #d6e9c6; font-weight: bold;\">\n",
    "<h2 style='font-weight: bold'>프로젝트</h2>\n",
    "숫자 야구 게임의 문제를 랜덤하게 만듭니다.\n",
    "</div> "
   ]
  },
  {
   "cell_type": "markdown",
   "id": "1646eb84-abbe-4cac-b56e-6cf9f9b86f8a",
   "metadata": {},
   "source": [
    "이번 시간에는 컴퓨터가 정답을 랜덤하게 생성하도록 합니다.<br>\n",
    "\n",
    "**목표:**\n",
    "컴퓨터가 정답을 랜덤으로 생성합니다.\n",
    "\n",
    "**참고사항:**\n",
    "- 정답은 3자리 수입니다.\n",
    "- 정답의 각 자리는 같은 숫자일 수 없습니다.(ex 336은 불가능합니다.)\n",
    "- 정답의 제일 앞자리는 0일 수 없습니다.\n",
    "- 정답은 문자열입니다.\n",
    "\n",
    "<table>\n",
    "<tr>\n",
    "    <th>\n",
    "        <img src=\"https://tmn-bucket-materials-all.s3.ap-northeast-2.amazonaws.com/image/dissac/dissac_nepes_4_07_01.png\" width=\"750\"></th>\n",
    "<tr>\n",
    "    <th>프로젝트 목표</th>\n",
    "</tr>\n",
    "</table>"
   ]
  },
  {
   "cell_type": "code",
   "execution_count": 3,
   "id": "63aa9697-2a88-4793-85e6-0632618205f7",
   "metadata": {
    "tags": []
   },
   "outputs": [],
   "source": [
    "### TODO : 정답 랜덤 생성\n",
    "\n",
    "###"
   ]
  },
  {
   "cell_type": "code",
   "execution_count": null,
   "id": "ca9a6de9-1315-41e4-9d1d-77438c33978b",
   "metadata": {
    "error_code": "import random\n\nwhile True:\n    answer = random.randint(100,999)\n    str(answer)\n    if answer[0] != answer[1] and answer[0] != answer[2]:\n        break\n\nhistory = []\nresult = []\n\nfor i in range(9):\n    print(i, \"번째 이닝입니다.(\",i,\"/9)\")\n    player = input(\"정답을 입력해주세요\")\n    print(\"입력한 정답은 \", player, \" 입니다.\")\n    history.append(player)\n\n    ### 볼, 스트라이크 판별\n    s = 0\n    b = 0\n    for j in range(len(player)):\n        if player[j] == answer[j]:\n            s += 1\n        elif player[j] in answer:\n            b += 1\n    \n    result.append([s,b])\n\n    ### 정답, 아웃 판정\n    if s == 3:\n        print(\"정답입니다.\")\n        break\n    elif s == 0 and b == 0:\n        print(\"아웃입니다.\")\n    else:\n        print(s, \" 스트라이크, \", b,\" 볼 입니다.\")\n\n    print(\"지금까지의 기록입니다 : \", history, result)\n    print(\"-\"*50)",
    "tags": []
   },
   "outputs": [
    {
     "name": "stdout",
     "output_type": "stream",
     "text": [
      "0 번째 이닝입니다.( 0 /9)\n"
     ]
    },
    {
     "name": "stdin",
     "output_type": "stream",
     "text": [
      "정답을 입력해주세요 123\n"
     ]
    },
    {
     "name": "stdout",
     "output_type": "stream",
     "text": [
      "입력한 정답은  123  입니다.\n",
      "아웃입니다.\n",
      "지금까지의 기록입니다 :  ['123'] [[0, 0]]\n",
      "--------------------------------------------------\n",
      "1 번째 이닝입니다.( 1 /9)\n"
     ]
    }
   ],
   "source": [
    "# 정답코드\n",
    "\n",
    "import random\n",
    "\n",
    "# 정답 랜덤 생성\n",
    "while True:\n",
    "    answer = random.randint(100,999)\n",
    "    answer = str(answer)\n",
    "    if answer[0] != answer[1] and answer[0] != answer[2] and answer[1] != answer[2]:\n",
    "        break\n",
    "\n",
    "history = []\n",
    "result = []\n",
    "\n",
    "for i in range(9):\n",
    "    print(i, \"번째 이닝입니다.(\",i,\"/9)\")\n",
    "    player = input(\"정답을 입력해주세요\")\n",
    "    print(\"입력한 정답은 \", player, \" 입니다.\")\n",
    "    history.append(player)\n",
    "\n",
    "    ### 볼, 스트라이크 판별\n",
    "    s = 0\n",
    "    b = 0\n",
    "    for j in range(len(player)):\n",
    "        if player[j] == answer[j]:\n",
    "            s += 1\n",
    "        elif player[j] in answer:\n",
    "            b += 1\n",
    "    \n",
    "    result.append([s,b])\n",
    "\n",
    "    ### 정답, 아웃 판정\n",
    "    if s == 3:\n",
    "        print(\"정답입니다.\")\n",
    "        break\n",
    "    elif s == 0 and b == 0:\n",
    "        print(\"아웃입니다.\")\n",
    "    else:\n",
    "        print(s, \" 스트라이크, \", b,\" 볼 입니다.\")\n",
    "\n",
    "    print(\"지금까지의 기록입니다 : \", history, result)\n",
    "    print(\"-\"*50)"
   ]
  }
 ],
 "metadata": {
  "kernelspec": {
   "display_name": "Python 3 (ipykernel)",
   "language": "python",
   "name": "python3"
  },
  "language_info": {
   "codemirror_mode": {
    "name": "ipython",
    "version": 3
   },
   "file_extension": ".py",
   "mimetype": "text/x-python",
   "name": "python",
   "nbconvert_exporter": "python",
   "pygments_lexer": "ipython3",
   "version": "3.10.12"
  }
 },
 "nbformat": 4,
 "nbformat_minor": 5
}
